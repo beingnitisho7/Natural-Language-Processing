{
 "cells": [
  {
   "cell_type": "code",
   "execution_count": 1,
   "metadata": {},
   "outputs": [],
   "source": [
    "import math\n",
    "import pandas as pd"
   ]
  },
  {
   "cell_type": "code",
   "execution_count": 2,
   "metadata": {},
   "outputs": [],
   "source": [
    "doc1=\"football is one of the best games\"\n",
    "doc2=\"Ronaldo is a football player\"\n",
    "doc3=\"Kohli is best football player\"\n",
    "doc4=\"i love cricket game\"\n",
    "doc5=\"i love cricket and football\"\n",
    "doc6=\"football is the best game\"\n",
    "doc7=\"odi and twenty is best cricket format\"\n",
    "doc8=\"cricket is another popular game\"\n",
    "doc9=\"ronaldo and messi are popular footballer\""
   ]
  },
  {
   "cell_type": "code",
   "execution_count": 3,
   "metadata": {},
   "outputs": [],
   "source": [
    "stopword_list=['i','is','the','and']"
   ]
  },
  {
   "cell_type": "code",
   "execution_count": 4,
   "metadata": {},
   "outputs": [],
   "source": [
    "#tokenizer Function\n",
    "def Tokenizer(text):\n",
    "    text=text.split()\n",
    "    return text"
   ]
  },
  {
   "cell_type": "code",
   "execution_count": 5,
   "metadata": {},
   "outputs": [],
   "source": [
    "tokenized_doc1=Tokenizer(doc1)\n",
    "tokenized_doc2=Tokenizer(doc2)\n",
    "tokenized_doc3=Tokenizer(doc3)\n",
    "tokenized_doc4=Tokenizer(doc4)\n",
    "tokenized_doc5=Tokenizer(doc5)\n",
    "tokenized_doc6=Tokenizer(doc6)\n",
    "tokenized_doc7=Tokenizer(doc7)\n",
    "tokenized_doc8=Tokenizer(doc8)\n",
    "tokenized_doc9=Tokenizer(doc9)\n"
   ]
  },
  {
   "cell_type": "code",
   "execution_count": 6,
   "metadata": {},
   "outputs": [],
   "source": [
    "#Remove Stop Words\n",
    "def Remove_stopword(text):\n",
    "    remove_stop=\" \"\n",
    "    list1=[]\n",
    "    for i in text: #euta euta word linxa i le\n",
    "        if i not in stopword_list:\n",
    "            list1.append(i)\n",
    "    return remove_stop.join(list1)\n"
   ]
  },
  {
   "cell_type": "code",
   "execution_count": 7,
   "metadata": {},
   "outputs": [
    {
     "data": {
      "text/plain": [
       "'football one of best games'"
      ]
     },
     "execution_count": 7,
     "metadata": {},
     "output_type": "execute_result"
    }
   ],
   "source": [
    "preprocess_doc1=Remove_stopword(tokenized_doc1)\n",
    "preprocess_doc1"
   ]
  },
  {
   "cell_type": "code",
   "execution_count": 8,
   "metadata": {},
   "outputs": [],
   "source": [
    "preprocess_doc1=Remove_stopword(tokenized_doc1)\n",
    "preprocess_doc2=Remove_stopword(tokenized_doc2)\n",
    "preprocess_doc3=Remove_stopword(tokenized_doc3)\n",
    "preprocess_doc4=Remove_stopword(tokenized_doc4)\n",
    "preprocess_doc5=Remove_stopword(tokenized_doc5)\n",
    "preprocess_doc6=Remove_stopword(tokenized_doc6)\n",
    "preprocess_doc7=Remove_stopword(tokenized_doc7)\n",
    "preprocess_doc8=Remove_stopword(tokenized_doc8)\n",
    "preprocess_doc9=Remove_stopword(tokenized_doc9)"
   ]
  },
  {
   "cell_type": "code",
   "execution_count": 31,
   "metadata": {},
   "outputs": [
    {
     "data": {
      "text/plain": [
       "'football one of best games Ronaldo a football player Kohli best football player love cricket game love cricket football football best game odi twenty best cricket format cricket another popular game ronaldo messi are popular footballer'"
      ]
     },
     "execution_count": 31,
     "metadata": {},
     "output_type": "execute_result"
    }
   ],
   "source": [
    "vocab_docs=preprocess_doc1+\" \"+preprocess_doc2+\" \"+preprocess_doc3+\" \"+preprocess_doc4+\" \"+preprocess_doc5+\" \"+preprocess_doc6+\" \"+preprocess_doc7+\" \"+preprocess_doc8+\" \"+preprocess_doc9\n",
    "\n",
    "vocab_docs"
   ]
  },
  {
   "cell_type": "code",
   "execution_count": 32,
   "metadata": {},
   "outputs": [],
   "source": [
    "def Get_vocab(doc):\n",
    "    doc=vocab_docs.split()\n",
    "    return(set(doc))"
   ]
  },
  {
   "cell_type": "code",
   "execution_count": 33,
   "metadata": {},
   "outputs": [
    {
     "data": {
      "text/plain": [
       "{'Kohli',\n",
       " 'Ronaldo',\n",
       " 'a',\n",
       " 'another',\n",
       " 'are',\n",
       " 'best',\n",
       " 'cricket',\n",
       " 'football',\n",
       " 'footballer',\n",
       " 'format',\n",
       " 'game',\n",
       " 'games',\n",
       " 'love',\n",
       " 'messi',\n",
       " 'odi',\n",
       " 'of',\n",
       " 'one',\n",
       " 'player',\n",
       " 'popular',\n",
       " 'ronaldo',\n",
       " 'twenty'}"
      ]
     },
     "execution_count": 33,
     "metadata": {},
     "output_type": "execute_result"
    }
   ],
   "source": [
    "vocabs=Get_vocab(vocab_docs)\n",
    "vocabs\n"
   ]
  },
  {
   "cell_type": "code",
   "execution_count": 34,
   "metadata": {},
   "outputs": [],
   "source": [
    "def map_vocab_to_id(vocab):            \n",
    "    res={}\n",
    "    for i,token in enumerate(vocab):\n",
    "        res[token]=i+1\n",
    "    return res"
   ]
  },
  {
   "cell_type": "code",
   "execution_count": 35,
   "metadata": {},
   "outputs": [
    {
     "data": {
      "text/plain": [
       "{'Kohli': 11,\n",
       " 'Ronaldo': 4,\n",
       " 'a': 3,\n",
       " 'another': 1,\n",
       " 'are': 20,\n",
       " 'best': 9,\n",
       " 'cricket': 18,\n",
       " 'football': 17,\n",
       " 'footballer': 5,\n",
       " 'format': 7,\n",
       " 'game': 2,\n",
       " 'games': 6,\n",
       " 'love': 15,\n",
       " 'messi': 14,\n",
       " 'odi': 21,\n",
       " 'of': 10,\n",
       " 'one': 16,\n",
       " 'player': 12,\n",
       " 'popular': 8,\n",
       " 'ronaldo': 13,\n",
       " 'twenty': 19}"
      ]
     },
     "execution_count": 35,
     "metadata": {},
     "output_type": "execute_result"
    }
   ],
   "source": [
    "vocab_with_id=map_vocab_to_id(vocabs)\n",
    "vocab_with_id"
   ]
  },
  {
   "cell_type": "code",
   "execution_count": 39,
   "metadata": {},
   "outputs": [],
   "source": [
    "#2 Ngram and Feature Vectors Count(tf) count\n",
    "def generate_ngrams(s, n=1):\n",
    "    tokens = [token for token in s.split(\" \") if token != \"\"]\n",
    "    ngrams = zip(*[tokens[i:] for i in range(n)])\n",
    "    return [\" \".join(ngram) for ngram in ngrams]"
   ]
  },
  {
   "cell_type": "code",
   "execution_count": 40,
   "metadata": {},
   "outputs": [
    {
     "data": {
      "text/plain": [
       "['football', 'one', 'of', 'best', 'games']"
      ]
     },
     "execution_count": 40,
     "metadata": {},
     "output_type": "execute_result"
    }
   ],
   "source": [
    "ngram_doc1=generate_ngrams(preprocess_doc1)\n",
    "ngram_doc2=generate_ngrams(preprocess_doc2)\n",
    "ngram_doc3=generate_ngrams(preprocess_doc3)\n",
    "ngram_doc4=generate_ngrams(preprocess_doc4)\n",
    "ngram_doc5=generate_ngrams(preprocess_doc5)\n",
    "ngram_doc6=generate_ngrams(preprocess_doc6)\n",
    "ngram_doc7=generate_ngrams(preprocess_doc7)\n",
    "ngram_doc8=generate_ngrams(preprocess_doc8)\n",
    "ngram_doc9=generate_ngrams(preprocess_doc9)\n",
    "ngram_doc1"
   ]
  },
  {
   "cell_type": "code",
   "execution_count": 41,
   "metadata": {},
   "outputs": [],
   "source": [
    "def Count_word(vocab,ng_doc):\n",
    "    numOfWords = dict.fromkeys(vocab, 0)\n",
    "    for word in ng_doc:\n",
    "        numOfWords[word] += 1\n",
    "    return numOfWords"
   ]
  },
  {
   "cell_type": "code",
   "execution_count": 46,
   "metadata": {},
   "outputs": [],
   "source": [
    "numOfWords1=Count_word(vocabs,ngram_doc1)\n",
    "numOfWords2=Count_word(vocabs,ngram_doc2)\n",
    "numOfWords3=Count_word(vocabs,ngram_doc3)\n",
    "numOfWords4=Count_word(vocabs,ngram_doc4)\n",
    "numOfWords5=Count_word(vocabs,ngram_doc5)\n",
    "numOfWords6=Count_word(vocabs,ngram_doc6)\n",
    "numOfWords7=Count_word(vocabs,ngram_doc7)\n",
    "numOfWords8=Count_word(vocabs,ngram_doc8)\n",
    "numOfWords9=Count_word(vocabs,ngram_doc9)"
   ]
  },
  {
   "cell_type": "code",
   "execution_count": 47,
   "metadata": {},
   "outputs": [],
   "source": [
    "# df\n",
    "def computeTF(wordDict, bagOfWords):\n",
    "    tfDict = {}\n",
    "    bagOfWordsCount = len(bagOfWords)\n",
    "    for word, count in wordDict.items():\n",
    "        tfDict[word] = count / float(bagOfWordsCount)\n",
    "    return tfDict"
   ]
  },
  {
   "cell_type": "code",
   "execution_count": 44,
   "metadata": {},
   "outputs": [],
   "source": [
    "tf1=computeTF(numOfWords1,tokenized_doc1)\n",
    "tf2=computeTF(numOfWords2,tokenized_doc2)\n",
    "tf3=computeTF(numOfWords3,tokenized_doc3)\n",
    "tf4=computeTF(numOfWords4,tokenized_doc4)\n",
    "tf5=computeTF(numOfWords5,tokenized_doc5)\n",
    "tf6=computeTF(numOfWords6,tokenized_doc6)\n",
    "tf7=computeTF(numOfWords7,tokenized_doc7)\n",
    "tf8=computeTF(numOfWords8,tokenized_doc8)\n",
    "tf9=computeTF(numOfWords9,tokenized_doc9)"
   ]
  },
  {
   "cell_type": "code",
   "execution_count": 45,
   "metadata": {},
   "outputs": [],
   "source": [
    "def computeIDF(documents):\n",
    "    import math\n",
    "    N = len(documents)\n",
    "    idfDict = dict.fromkeys(documents[0].keys(), 0)\n",
    "    \n",
    "    for document in documents:\n",
    "        for word, val in document.items():\n",
    "           \n",
    "            if val > 0:\n",
    "                idfDict[word] += 1\n",
    "                \n",
    "    for word, val in idfDict.items():\n",
    "        idfDict[word] = math.log(N /float(val))+1\n",
    "    return idfDict"
   ]
  },
  {
   "cell_type": "code",
   "execution_count": 26,
   "metadata": {},
   "outputs": [],
   "source": [
    "idfs = computeIDF([numOfWords1,numOfWords2,numOfWords3,numOfWords4,numOfWords5,numOfWords6,numOfWords7,numOfWords8,numOfWords9])"
   ]
  },
  {
   "cell_type": "code",
   "execution_count": 27,
   "metadata": {},
   "outputs": [],
   "source": [
    "#tf*idf\n",
    "def computeTFIDF(tfBagOfWords, idfs):\n",
    "    tfidf = {}\n",
    "    for word, val in tfBagOfWords.items():\n",
    "        tfidf[word] = val * idfs[word]\n",
    "    return tfidf"
   ]
  },
  {
   "cell_type": "code",
   "execution_count": 28,
   "metadata": {},
   "outputs": [
    {
     "data": {
      "text/html": [
       "<div>\n",
       "<style scoped>\n",
       "    .dataframe tbody tr th:only-of-type {\n",
       "        vertical-align: middle;\n",
       "    }\n",
       "\n",
       "    .dataframe tbody tr th {\n",
       "        vertical-align: top;\n",
       "    }\n",
       "\n",
       "    .dataframe thead th {\n",
       "        text-align: right;\n",
       "    }\n",
       "</style>\n",
       "<table border=\"1\" class=\"dataframe\">\n",
       "  <thead>\n",
       "    <tr style=\"text-align: right;\">\n",
       "      <th></th>\n",
       "      <th>Kohli</th>\n",
       "      <th>Ronaldo</th>\n",
       "      <th>a</th>\n",
       "      <th>another</th>\n",
       "      <th>are</th>\n",
       "      <th>best</th>\n",
       "      <th>cricket</th>\n",
       "      <th>football</th>\n",
       "      <th>footballer</th>\n",
       "      <th>format</th>\n",
       "      <th>...</th>\n",
       "      <th>games</th>\n",
       "      <th>love</th>\n",
       "      <th>messi</th>\n",
       "      <th>odi</th>\n",
       "      <th>of</th>\n",
       "      <th>one</th>\n",
       "      <th>player</th>\n",
       "      <th>popular</th>\n",
       "      <th>ronaldo</th>\n",
       "      <th>twenty</th>\n",
       "    </tr>\n",
       "  </thead>\n",
       "  <tbody>\n",
       "    <tr>\n",
       "      <th>0</th>\n",
       "      <td>0.000000</td>\n",
       "      <td>0.000000</td>\n",
       "      <td>0.000000</td>\n",
       "      <td>0.000000</td>\n",
       "      <td>0.000000</td>\n",
       "      <td>0.258704</td>\n",
       "      <td>0.000000</td>\n",
       "      <td>0.226827</td>\n",
       "      <td>0.000000</td>\n",
       "      <td>0.000000</td>\n",
       "      <td>...</td>\n",
       "      <td>0.456746</td>\n",
       "      <td>0.000000</td>\n",
       "      <td>0.000000</td>\n",
       "      <td>0.000000</td>\n",
       "      <td>0.456746</td>\n",
       "      <td>0.456746</td>\n",
       "      <td>0.000000</td>\n",
       "      <td>0.000000</td>\n",
       "      <td>0.000000</td>\n",
       "      <td>0.000000</td>\n",
       "    </tr>\n",
       "    <tr>\n",
       "      <th>1</th>\n",
       "      <td>0.000000</td>\n",
       "      <td>0.639445</td>\n",
       "      <td>0.639445</td>\n",
       "      <td>0.000000</td>\n",
       "      <td>0.000000</td>\n",
       "      <td>0.000000</td>\n",
       "      <td>0.000000</td>\n",
       "      <td>0.317557</td>\n",
       "      <td>0.000000</td>\n",
       "      <td>0.000000</td>\n",
       "      <td>...</td>\n",
       "      <td>0.000000</td>\n",
       "      <td>0.000000</td>\n",
       "      <td>0.000000</td>\n",
       "      <td>0.000000</td>\n",
       "      <td>0.000000</td>\n",
       "      <td>0.000000</td>\n",
       "      <td>0.500815</td>\n",
       "      <td>0.000000</td>\n",
       "      <td>0.000000</td>\n",
       "      <td>0.000000</td>\n",
       "    </tr>\n",
       "    <tr>\n",
       "      <th>2</th>\n",
       "      <td>0.639445</td>\n",
       "      <td>0.000000</td>\n",
       "      <td>0.000000</td>\n",
       "      <td>0.000000</td>\n",
       "      <td>0.000000</td>\n",
       "      <td>0.362186</td>\n",
       "      <td>0.000000</td>\n",
       "      <td>0.317557</td>\n",
       "      <td>0.000000</td>\n",
       "      <td>0.000000</td>\n",
       "      <td>...</td>\n",
       "      <td>0.000000</td>\n",
       "      <td>0.000000</td>\n",
       "      <td>0.000000</td>\n",
       "      <td>0.000000</td>\n",
       "      <td>0.000000</td>\n",
       "      <td>0.000000</td>\n",
       "      <td>0.500815</td>\n",
       "      <td>0.000000</td>\n",
       "      <td>0.000000</td>\n",
       "      <td>0.000000</td>\n",
       "    </tr>\n",
       "    <tr>\n",
       "      <th>3</th>\n",
       "      <td>0.000000</td>\n",
       "      <td>0.000000</td>\n",
       "      <td>0.000000</td>\n",
       "      <td>0.000000</td>\n",
       "      <td>0.000000</td>\n",
       "      <td>0.000000</td>\n",
       "      <td>0.452733</td>\n",
       "      <td>0.000000</td>\n",
       "      <td>0.000000</td>\n",
       "      <td>0.000000</td>\n",
       "      <td>...</td>\n",
       "      <td>0.000000</td>\n",
       "      <td>0.626019</td>\n",
       "      <td>0.000000</td>\n",
       "      <td>0.000000</td>\n",
       "      <td>0.000000</td>\n",
       "      <td>0.000000</td>\n",
       "      <td>0.000000</td>\n",
       "      <td>0.000000</td>\n",
       "      <td>0.000000</td>\n",
       "      <td>0.000000</td>\n",
       "    </tr>\n",
       "    <tr>\n",
       "      <th>4</th>\n",
       "      <td>0.000000</td>\n",
       "      <td>0.000000</td>\n",
       "      <td>0.000000</td>\n",
       "      <td>0.000000</td>\n",
       "      <td>0.000000</td>\n",
       "      <td>0.000000</td>\n",
       "      <td>0.362186</td>\n",
       "      <td>0.317557</td>\n",
       "      <td>0.000000</td>\n",
       "      <td>0.000000</td>\n",
       "      <td>...</td>\n",
       "      <td>0.000000</td>\n",
       "      <td>0.500815</td>\n",
       "      <td>0.000000</td>\n",
       "      <td>0.000000</td>\n",
       "      <td>0.000000</td>\n",
       "      <td>0.000000</td>\n",
       "      <td>0.000000</td>\n",
       "      <td>0.000000</td>\n",
       "      <td>0.000000</td>\n",
       "      <td>0.000000</td>\n",
       "    </tr>\n",
       "    <tr>\n",
       "      <th>5</th>\n",
       "      <td>0.000000</td>\n",
       "      <td>0.000000</td>\n",
       "      <td>0.000000</td>\n",
       "      <td>0.000000</td>\n",
       "      <td>0.000000</td>\n",
       "      <td>0.362186</td>\n",
       "      <td>0.000000</td>\n",
       "      <td>0.317557</td>\n",
       "      <td>0.000000</td>\n",
       "      <td>0.000000</td>\n",
       "      <td>...</td>\n",
       "      <td>0.000000</td>\n",
       "      <td>0.000000</td>\n",
       "      <td>0.000000</td>\n",
       "      <td>0.000000</td>\n",
       "      <td>0.000000</td>\n",
       "      <td>0.000000</td>\n",
       "      <td>0.000000</td>\n",
       "      <td>0.000000</td>\n",
       "      <td>0.000000</td>\n",
       "      <td>0.000000</td>\n",
       "    </tr>\n",
       "    <tr>\n",
       "      <th>6</th>\n",
       "      <td>0.000000</td>\n",
       "      <td>0.000000</td>\n",
       "      <td>0.000000</td>\n",
       "      <td>0.000000</td>\n",
       "      <td>0.000000</td>\n",
       "      <td>0.258704</td>\n",
       "      <td>0.258704</td>\n",
       "      <td>0.000000</td>\n",
       "      <td>0.000000</td>\n",
       "      <td>0.456746</td>\n",
       "      <td>...</td>\n",
       "      <td>0.000000</td>\n",
       "      <td>0.000000</td>\n",
       "      <td>0.000000</td>\n",
       "      <td>0.456746</td>\n",
       "      <td>0.000000</td>\n",
       "      <td>0.000000</td>\n",
       "      <td>0.000000</td>\n",
       "      <td>0.000000</td>\n",
       "      <td>0.000000</td>\n",
       "      <td>0.456746</td>\n",
       "    </tr>\n",
       "    <tr>\n",
       "      <th>7</th>\n",
       "      <td>0.000000</td>\n",
       "      <td>0.000000</td>\n",
       "      <td>0.000000</td>\n",
       "      <td>0.639445</td>\n",
       "      <td>0.000000</td>\n",
       "      <td>0.000000</td>\n",
       "      <td>0.362186</td>\n",
       "      <td>0.000000</td>\n",
       "      <td>0.000000</td>\n",
       "      <td>0.000000</td>\n",
       "      <td>...</td>\n",
       "      <td>0.000000</td>\n",
       "      <td>0.000000</td>\n",
       "      <td>0.000000</td>\n",
       "      <td>0.000000</td>\n",
       "      <td>0.000000</td>\n",
       "      <td>0.000000</td>\n",
       "      <td>0.000000</td>\n",
       "      <td>0.500815</td>\n",
       "      <td>0.000000</td>\n",
       "      <td>0.000000</td>\n",
       "    </tr>\n",
       "    <tr>\n",
       "      <th>8</th>\n",
       "      <td>0.000000</td>\n",
       "      <td>0.000000</td>\n",
       "      <td>0.000000</td>\n",
       "      <td>0.000000</td>\n",
       "      <td>0.532871</td>\n",
       "      <td>0.000000</td>\n",
       "      <td>0.000000</td>\n",
       "      <td>0.000000</td>\n",
       "      <td>0.532871</td>\n",
       "      <td>0.000000</td>\n",
       "      <td>...</td>\n",
       "      <td>0.000000</td>\n",
       "      <td>0.000000</td>\n",
       "      <td>0.532871</td>\n",
       "      <td>0.000000</td>\n",
       "      <td>0.000000</td>\n",
       "      <td>0.000000</td>\n",
       "      <td>0.000000</td>\n",
       "      <td>0.417346</td>\n",
       "      <td>0.532871</td>\n",
       "      <td>0.000000</td>\n",
       "    </tr>\n",
       "  </tbody>\n",
       "</table>\n",
       "<p>9 rows × 21 columns</p>\n",
       "</div>"
      ],
      "text/plain": [
       "      Kohli   Ronaldo         a   another       are      best   cricket  \\\n",
       "0  0.000000  0.000000  0.000000  0.000000  0.000000  0.258704  0.000000   \n",
       "1  0.000000  0.639445  0.639445  0.000000  0.000000  0.000000  0.000000   \n",
       "2  0.639445  0.000000  0.000000  0.000000  0.000000  0.362186  0.000000   \n",
       "3  0.000000  0.000000  0.000000  0.000000  0.000000  0.000000  0.452733   \n",
       "4  0.000000  0.000000  0.000000  0.000000  0.000000  0.000000  0.362186   \n",
       "5  0.000000  0.000000  0.000000  0.000000  0.000000  0.362186  0.000000   \n",
       "6  0.000000  0.000000  0.000000  0.000000  0.000000  0.258704  0.258704   \n",
       "7  0.000000  0.000000  0.000000  0.639445  0.000000  0.000000  0.362186   \n",
       "8  0.000000  0.000000  0.000000  0.000000  0.532871  0.000000  0.000000   \n",
       "\n",
       "   football  footballer    format    ...        games      love     messi  \\\n",
       "0  0.226827    0.000000  0.000000    ...     0.456746  0.000000  0.000000   \n",
       "1  0.317557    0.000000  0.000000    ...     0.000000  0.000000  0.000000   \n",
       "2  0.317557    0.000000  0.000000    ...     0.000000  0.000000  0.000000   \n",
       "3  0.000000    0.000000  0.000000    ...     0.000000  0.626019  0.000000   \n",
       "4  0.317557    0.000000  0.000000    ...     0.000000  0.500815  0.000000   \n",
       "5  0.317557    0.000000  0.000000    ...     0.000000  0.000000  0.000000   \n",
       "6  0.000000    0.000000  0.456746    ...     0.000000  0.000000  0.000000   \n",
       "7  0.000000    0.000000  0.000000    ...     0.000000  0.000000  0.000000   \n",
       "8  0.000000    0.532871  0.000000    ...     0.000000  0.000000  0.532871   \n",
       "\n",
       "        odi        of       one    player   popular   ronaldo    twenty  \n",
       "0  0.000000  0.456746  0.456746  0.000000  0.000000  0.000000  0.000000  \n",
       "1  0.000000  0.000000  0.000000  0.500815  0.000000  0.000000  0.000000  \n",
       "2  0.000000  0.000000  0.000000  0.500815  0.000000  0.000000  0.000000  \n",
       "3  0.000000  0.000000  0.000000  0.000000  0.000000  0.000000  0.000000  \n",
       "4  0.000000  0.000000  0.000000  0.000000  0.000000  0.000000  0.000000  \n",
       "5  0.000000  0.000000  0.000000  0.000000  0.000000  0.000000  0.000000  \n",
       "6  0.456746  0.000000  0.000000  0.000000  0.000000  0.000000  0.456746  \n",
       "7  0.000000  0.000000  0.000000  0.000000  0.500815  0.000000  0.000000  \n",
       "8  0.000000  0.000000  0.000000  0.000000  0.417346  0.532871  0.000000  \n",
       "\n",
       "[9 rows x 21 columns]"
      ]
     },
     "execution_count": 28,
     "metadata": {},
     "output_type": "execute_result"
    }
   ],
   "source": [
    "tfidf1 = computeTFIDF(tf1, idfs)\n",
    "tfidf2 = computeTFIDF(tf2, idfs)\n",
    "tfidf3 = computeTFIDF(tf3, idfs)\n",
    "tfidf4 = computeTFIDF(tf4, idfs)\n",
    "tfidf5 = computeTFIDF(tf5, idfs)\n",
    "tfidf6 = computeTFIDF(tf6, idfs)\n",
    "tfidf7 = computeTFIDF(tf7, idfs)\n",
    "tfidf8 = computeTFIDF(tf8, idfs)\n",
    "tfidf9 = computeTFIDF(tf9, idfs)\n",
    "\n",
    "df = pd.DataFrame([tfidf1, tfidf2,tfidf3,tfidf4,tfidf5,tfidf6,tfidf7,tfidf8,tfidf9])\n",
    "df"
   ]
  },
  {
   "cell_type": "code",
   "execution_count": null,
   "metadata": {},
   "outputs": [],
   "source": []
  }
 ],
 "metadata": {
  "kernelspec": {
   "display_name": "Python 3",
   "language": "python",
   "name": "python3"
  },
  "language_info": {
   "codemirror_mode": {
    "name": "ipython",
    "version": 3
   },
   "file_extension": ".py",
   "mimetype": "text/x-python",
   "name": "python",
   "nbconvert_exporter": "python",
   "pygments_lexer": "ipython3",
   "version": "3.6.4"
  }
 },
 "nbformat": 4,
 "nbformat_minor": 2
}
