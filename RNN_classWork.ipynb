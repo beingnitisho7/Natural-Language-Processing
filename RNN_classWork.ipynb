{
 "cells": [
  {
   "cell_type": "code",
   "execution_count": 36,
   "metadata": {},
   "outputs": [],
   "source": [
    "import numpy as np\n",
    "np.random.seed(0)\n"
   ]
  },
  {
   "cell_type": "code",
   "execution_count": 37,
   "metadata": {},
   "outputs": [],
   "source": [
    "def sigmoid(x):\n",
    "    output=1/(1+np.exp(-x))\n",
    "    return output\n",
    "\n",
    "def sigmoid_output_to_derivation(output):\n",
    "    return output * (1-output)\n",
    "\n",
    "binary_dim=8\n",
    "int2binary={}\n",
    "\n",
    "largest_number= pow(2, binary_dim)\n",
    "\n",
    "binary=np.unpackbits(np.array([range(largest_number)], dtype=np.uint8).T, axis=1)\n",
    "\n",
    "for i in range(largest_number):\n",
    "    int2binary[i]=binary[i]"
   ]
  },
  {
   "cell_type": "code",
   "execution_count": 38,
   "metadata": {},
   "outputs": [],
   "source": [
    "# print(int2binary)"
   ]
  },
  {
   "cell_type": "code",
   "execution_count": 39,
   "metadata": {},
   "outputs": [],
   "source": [
    "input_dim=2\n",
    "hidden_dim=16\n",
    "output_dim=1"
   ]
  },
  {
   "cell_type": "code",
   "execution_count": 40,
   "metadata": {},
   "outputs": [],
   "source": [
    "synapse_0= 2*np.random.random((input_dim, hidden_dim))-1\n",
    "synapse_1=2*np.random.random((hidden_dim, output_dim))-1\n",
    "synapse_h=2*np.random.random((hidden_dim,hidden_dim))-1\n",
    "\n",
    "synap_0_update=np.zeros_like(synapse_0)\n",
    "synapse_1_up=np.zeros_like(synapse_1)\n",
    "synapse_h_up=np.zeros_like(synapse_h)"
   ]
  },
  {
   "cell_type": "code",
   "execution_count": 41,
   "metadata": {},
   "outputs": [],
   "source": [
    "for j in range(1000):\n",
    "    a_int=np.random.randint(largest_number/2)\n",
    "    a= int2binary[a_int]\n",
    "    b_int=np.random.randint(largest_number/2)\n",
    "    b= int2binary[b_int]\n",
    "    c_int= a_int+b_int\n",
    "    c= int2binary[c_int]\n",
    "    \n",
    "    layer_2_deltas=list()\n",
    "    layer_1_values=list()\n",
    "    layer_1_values.append(np.zeros(hidden_dim))\n",
    "    \n",
    "    for position in range(binary_dim):\n",
    "        X=np.array([[a[binary_dim-position-1],b[binary_dim-position-1]]])\n",
    "        y=np.array([[c[binary_dim-position-1]]])\n",
    "                   \n",
    "        layer_1=sigmoid(np.dot(X, synapse_0)+np.dot(layer_1_values[-1],synapse_h))\n",
    "        layer_2=sigmoid(np.dot(layer_1,synapse_1))\n",
    "                        "
   ]
  },
  {
   "cell_type": "code",
   "execution_count": 42,
   "metadata": {},
   "outputs": [
    {
     "name": "stdout",
     "output_type": "stream",
     "text": [
      "[[0 0]]\n",
      "[[1]]\n"
     ]
    }
   ],
   "source": [
    "print(X)\n",
    "print(y)"
   ]
  },
  {
   "cell_type": "code",
   "execution_count": null,
   "metadata": {},
   "outputs": [],
   "source": []
  },
  {
   "cell_type": "code",
   "execution_count": 43,
   "metadata": {},
   "outputs": [
    {
     "name": "stdout",
     "output_type": "stream",
     "text": [
      "[1 0 1 1 1 1 0 0]\n",
      "188\n"
     ]
    }
   ],
   "source": [
    "print(c)\n",
    "print(c_int)"
   ]
  },
  {
   "cell_type": "code",
   "execution_count": null,
   "metadata": {},
   "outputs": [],
   "source": [
    "# dot matmal * @ multiplication"
   ]
  }
 ],
 "metadata": {
  "kernelspec": {
   "display_name": "Python 3",
   "language": "python",
   "name": "python3"
  },
  "language_info": {
   "codemirror_mode": {
    "name": "ipython",
    "version": 3
   },
   "file_extension": ".py",
   "mimetype": "text/x-python",
   "name": "python",
   "nbconvert_exporter": "python",
   "pygments_lexer": "ipython3",
   "version": "3.6.4"
  }
 },
 "nbformat": 4,
 "nbformat_minor": 2
}
